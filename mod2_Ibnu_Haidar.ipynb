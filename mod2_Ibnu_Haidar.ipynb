{
 "cells": [
  {
   "cell_type": "markdown",
   "metadata": {},
   "source": [
    "<center><h1>Module 2 Assignment</h1></center>"
   ]
  },
  {
   "cell_type": "markdown",
   "metadata": {},
   "source": [
    "# Choose a dataset\n",
    "\n",
    "Choose a dataset from [NYC Open Data](https://opendata.cityofnewyork.us/) that is available in CSV format (look at the format labels in the list of datasets). Choose one that has at least 2 numerical value columns and 1 string value column. \n",
    "\n",
    "If it's a CSV file you may be able to directly read it with pandas\n",
    "```\n",
    "pd.read_csv(url)\n",
    "```\n",
    "\n",
    "If it is a compressed file (.zip, .gz, etc.), download the zip and unpack it, then read it in with pandas\n",
    "```\n",
    "pd.read_csv(<filename>.csv)\n",
    "```"
   ]
  },
  {
   "cell_type": "markdown",
   "metadata": {},
   "source": [
    "I choose dataset [Invoices for Open Market Order (OMO) Charges](https://data.cityofnewyork.us/Housing-Development/Invoices-for-Open-Market-Order-OMO-Charges/emrz-5p35) with CSV url https://data.cityofnewyork.us/resource/emrz-5p35.csv"
   ]
  },
  {
   "cell_type": "code",
   "execution_count": 1,
   "metadata": {},
   "outputs": [],
   "source": [
    "import pandas as pd\n",
    "data = pd.read_csv(\"https://data.cityofnewyork.us/resource/emrz-5p35.csv\")"
   ]
  },
  {
   "cell_type": "markdown",
   "metadata": {},
   "source": [
    "## Display top 7 rows of the dataframe in your notebook"
   ]
  },
  {
   "cell_type": "code",
   "execution_count": 2,
   "metadata": {},
   "outputs": [
    {
     "data": {
      "text/html": [
       "<div>\n",
       "<style scoped>\n",
       "    .dataframe tbody tr th:only-of-type {\n",
       "        vertical-align: middle;\n",
       "    }\n",
       "\n",
       "    .dataframe tbody tr th {\n",
       "        vertical-align: top;\n",
       "    }\n",
       "\n",
       "    .dataframe thead th {\n",
       "        text-align: right;\n",
       "    }\n",
       "</style>\n",
       "<table border=\"1\" class=\"dataframe\">\n",
       "  <thead>\n",
       "    <tr style=\"text-align: right;\">\n",
       "      <th></th>\n",
       "      <th>invoiceid</th>\n",
       "      <th>invoicesequenceid</th>\n",
       "      <th>omonumber</th>\n",
       "      <th>invoicestatus</th>\n",
       "      <th>invoicedate</th>\n",
       "      <th>invoicebillamount</th>\n",
       "      <th>invoicepayamount</th>\n",
       "      <th>salestax</th>\n",
       "      <th>adminfee</th>\n",
       "      <th>paymentid</th>\n",
       "      <th>chargeamount</th>\n",
       "      <th>datetransferdof</th>\n",
       "      <th>unique_key</th>\n",
       "    </tr>\n",
       "  </thead>\n",
       "  <tbody>\n",
       "    <tr>\n",
       "      <th>0</th>\n",
       "      <td>1</td>\n",
       "      <td>EK08601</td>\n",
       "      <td>EK08601</td>\n",
       "      <td>VCREATE</td>\n",
       "      <td>2019-10-21T00:00:00.000</td>\n",
       "      <td>50.0</td>\n",
       "      <td>50.0</td>\n",
       "      <td>4.44</td>\n",
       "      <td>25.0</td>\n",
       "      <td>2264375.0</td>\n",
       "      <td>79.44</td>\n",
       "      <td>2020-02-05T00:00:00.000</td>\n",
       "      <td>EK08601_1_2264375</td>\n",
       "    </tr>\n",
       "    <tr>\n",
       "      <th>1</th>\n",
       "      <td>1</td>\n",
       "      <td>EK08607</td>\n",
       "      <td>EK08607</td>\n",
       "      <td>VCREATE</td>\n",
       "      <td>2019-12-17T00:00:00.000</td>\n",
       "      <td>50.0</td>\n",
       "      <td>50.0</td>\n",
       "      <td>4.44</td>\n",
       "      <td>25.0</td>\n",
       "      <td>2263930.0</td>\n",
       "      <td>79.44</td>\n",
       "      <td>2020-02-05T00:00:00.000</td>\n",
       "      <td>EK08607_1_2263930</td>\n",
       "    </tr>\n",
       "    <tr>\n",
       "      <th>2</th>\n",
       "      <td>1</td>\n",
       "      <td>EK08644</td>\n",
       "      <td>EK08644</td>\n",
       "      <td>VCREATE</td>\n",
       "      <td>2019-11-15T00:00:00.000</td>\n",
       "      <td>295.0</td>\n",
       "      <td>295.0</td>\n",
       "      <td>26.18</td>\n",
       "      <td>147.5</td>\n",
       "      <td>2264634.0</td>\n",
       "      <td>468.68</td>\n",
       "      <td>2020-02-05T00:00:00.000</td>\n",
       "      <td>EK08644_1_2264634</td>\n",
       "    </tr>\n",
       "    <tr>\n",
       "      <th>3</th>\n",
       "      <td>1</td>\n",
       "      <td>EK08678</td>\n",
       "      <td>EK08678</td>\n",
       "      <td>VCREATE</td>\n",
       "      <td>2019-10-15T00:00:00.000</td>\n",
       "      <td>50.0</td>\n",
       "      <td>50.0</td>\n",
       "      <td>4.44</td>\n",
       "      <td>25.0</td>\n",
       "      <td>2265260.0</td>\n",
       "      <td>79.44</td>\n",
       "      <td>NaN</td>\n",
       "      <td>EK08678_1_2265260</td>\n",
       "    </tr>\n",
       "    <tr>\n",
       "      <th>4</th>\n",
       "      <td>1</td>\n",
       "      <td>EK08702</td>\n",
       "      <td>EK08702</td>\n",
       "      <td>VCREATE</td>\n",
       "      <td>2019-11-05T00:00:00.000</td>\n",
       "      <td>300.0</td>\n",
       "      <td>300.0</td>\n",
       "      <td>26.63</td>\n",
       "      <td>150.0</td>\n",
       "      <td>2263358.0</td>\n",
       "      <td>476.63</td>\n",
       "      <td>2020-02-05T00:00:00.000</td>\n",
       "      <td>EK08702_1_2263358</td>\n",
       "    </tr>\n",
       "    <tr>\n",
       "      <th>5</th>\n",
       "      <td>1</td>\n",
       "      <td>EK08703</td>\n",
       "      <td>EK08703</td>\n",
       "      <td>VCREATE</td>\n",
       "      <td>2019-10-22T00:00:00.000</td>\n",
       "      <td>50.0</td>\n",
       "      <td>50.0</td>\n",
       "      <td>4.44</td>\n",
       "      <td>25.0</td>\n",
       "      <td>2264910.0</td>\n",
       "      <td>79.44</td>\n",
       "      <td>2020-02-05T00:00:00.000</td>\n",
       "      <td>EK08703_1_2264910</td>\n",
       "    </tr>\n",
       "    <tr>\n",
       "      <th>6</th>\n",
       "      <td>1</td>\n",
       "      <td>EK08710</td>\n",
       "      <td>EK08710</td>\n",
       "      <td>VCREATE</td>\n",
       "      <td>2019-10-28T00:00:00.000</td>\n",
       "      <td>165.0</td>\n",
       "      <td>165.0</td>\n",
       "      <td>14.64</td>\n",
       "      <td>82.5</td>\n",
       "      <td>2264558.0</td>\n",
       "      <td>262.14</td>\n",
       "      <td>2020-02-05T00:00:00.000</td>\n",
       "      <td>EK08710_1_2264558</td>\n",
       "    </tr>\n",
       "  </tbody>\n",
       "</table>\n",
       "</div>"
      ],
      "text/plain": [
       "   invoiceid invoicesequenceid omonumber invoicestatus  \\\n",
       "0          1           EK08601   EK08601       VCREATE   \n",
       "1          1           EK08607   EK08607       VCREATE   \n",
       "2          1           EK08644   EK08644       VCREATE   \n",
       "3          1           EK08678   EK08678       VCREATE   \n",
       "4          1           EK08702   EK08702       VCREATE   \n",
       "5          1           EK08703   EK08703       VCREATE   \n",
       "6          1           EK08710   EK08710       VCREATE   \n",
       "\n",
       "               invoicedate  invoicebillamount  invoicepayamount  salestax  \\\n",
       "0  2019-10-21T00:00:00.000               50.0              50.0      4.44   \n",
       "1  2019-12-17T00:00:00.000               50.0              50.0      4.44   \n",
       "2  2019-11-15T00:00:00.000              295.0             295.0     26.18   \n",
       "3  2019-10-15T00:00:00.000               50.0              50.0      4.44   \n",
       "4  2019-11-05T00:00:00.000              300.0             300.0     26.63   \n",
       "5  2019-10-22T00:00:00.000               50.0              50.0      4.44   \n",
       "6  2019-10-28T00:00:00.000              165.0             165.0     14.64   \n",
       "\n",
       "   adminfee  paymentid  chargeamount          datetransferdof  \\\n",
       "0      25.0  2264375.0         79.44  2020-02-05T00:00:00.000   \n",
       "1      25.0  2263930.0         79.44  2020-02-05T00:00:00.000   \n",
       "2     147.5  2264634.0        468.68  2020-02-05T00:00:00.000   \n",
       "3      25.0  2265260.0         79.44                      NaN   \n",
       "4     150.0  2263358.0        476.63  2020-02-05T00:00:00.000   \n",
       "5      25.0  2264910.0         79.44  2020-02-05T00:00:00.000   \n",
       "6      82.5  2264558.0        262.14  2020-02-05T00:00:00.000   \n",
       "\n",
       "          unique_key  \n",
       "0  EK08601_1_2264375  \n",
       "1  EK08607_1_2263930  \n",
       "2  EK08644_1_2264634  \n",
       "3  EK08678_1_2265260  \n",
       "4  EK08702_1_2263358  \n",
       "5  EK08703_1_2264910  \n",
       "6  EK08710_1_2264558  "
      ]
     },
     "execution_count": 2,
     "metadata": {},
     "output_type": "execute_result"
    }
   ],
   "source": [
    "data.head(7)"
   ]
  },
  {
   "cell_type": "markdown",
   "metadata": {},
   "source": [
    "## Count number of null values (if any) for each column"
   ]
  },
  {
   "cell_type": "code",
   "execution_count": 3,
   "metadata": {},
   "outputs": [
    {
     "data": {
      "text/plain": [
       "invoiceid              0\n",
       "invoicesequenceid      0\n",
       "omonumber              0\n",
       "invoicestatus          0\n",
       "invoicedate            0\n",
       "invoicebillamount      0\n",
       "invoicepayamount       0\n",
       "salestax               0\n",
       "adminfee               0\n",
       "paymentid            345\n",
       "chargeamount           0\n",
       "datetransferdof      630\n",
       "unique_key             0\n",
       "dtype: int64"
      ]
     },
     "execution_count": 3,
     "metadata": {},
     "output_type": "execute_result"
    }
   ],
   "source": [
    "data.isnull().sum()"
   ]
  },
  {
   "cell_type": "markdown",
   "metadata": {},
   "source": [
    "## Remove all but 2 numerical values columns of your choice and display the reducted dataframe."
   ]
  },
  {
   "cell_type": "code",
   "execution_count": 4,
   "metadata": {},
   "outputs": [
    {
     "data": {
      "text/html": [
       "<div>\n",
       "<style scoped>\n",
       "    .dataframe tbody tr th:only-of-type {\n",
       "        vertical-align: middle;\n",
       "    }\n",
       "\n",
       "    .dataframe tbody tr th {\n",
       "        vertical-align: top;\n",
       "    }\n",
       "\n",
       "    .dataframe thead th {\n",
       "        text-align: right;\n",
       "    }\n",
       "</style>\n",
       "<table border=\"1\" class=\"dataframe\">\n",
       "  <thead>\n",
       "    <tr style=\"text-align: right;\">\n",
       "      <th></th>\n",
       "      <th>invoicepayamount</th>\n",
       "      <th>adminfee</th>\n",
       "    </tr>\n",
       "  </thead>\n",
       "  <tbody>\n",
       "    <tr>\n",
       "      <th>0</th>\n",
       "      <td>50.0</td>\n",
       "      <td>25.0</td>\n",
       "    </tr>\n",
       "    <tr>\n",
       "      <th>1</th>\n",
       "      <td>50.0</td>\n",
       "      <td>25.0</td>\n",
       "    </tr>\n",
       "    <tr>\n",
       "      <th>2</th>\n",
       "      <td>295.0</td>\n",
       "      <td>147.5</td>\n",
       "    </tr>\n",
       "    <tr>\n",
       "      <th>3</th>\n",
       "      <td>50.0</td>\n",
       "      <td>25.0</td>\n",
       "    </tr>\n",
       "    <tr>\n",
       "      <th>4</th>\n",
       "      <td>300.0</td>\n",
       "      <td>150.0</td>\n",
       "    </tr>\n",
       "  </tbody>\n",
       "</table>\n",
       "</div>"
      ],
      "text/plain": [
       "   invoicepayamount  adminfee\n",
       "0              50.0      25.0\n",
       "1              50.0      25.0\n",
       "2             295.0     147.5\n",
       "3              50.0      25.0\n",
       "4             300.0     150.0"
      ]
     },
     "execution_count": 4,
     "metadata": {},
     "output_type": "execute_result"
    }
   ],
   "source": [
    "data = data[[\"invoicepayamount\", \"adminfee\"]]\n",
    "data.head()"
   ]
  },
  {
   "cell_type": "markdown",
   "metadata": {},
   "source": [
    "## Display the average, median, and standard deviation of each of your numerical columns"
   ]
  },
  {
   "cell_type": "code",
   "execution_count": 5,
   "metadata": {},
   "outputs": [
    {
     "data": {
      "text/html": [
       "<div>\n",
       "<style scoped>\n",
       "    .dataframe tbody tr th:only-of-type {\n",
       "        vertical-align: middle;\n",
       "    }\n",
       "\n",
       "    .dataframe tbody tr th {\n",
       "        vertical-align: top;\n",
       "    }\n",
       "\n",
       "    .dataframe thead th {\n",
       "        text-align: right;\n",
       "    }\n",
       "</style>\n",
       "<table border=\"1\" class=\"dataframe\">\n",
       "  <thead>\n",
       "    <tr style=\"text-align: right;\">\n",
       "      <th></th>\n",
       "      <th>invoicepayamount</th>\n",
       "      <th>adminfee</th>\n",
       "    </tr>\n",
       "  </thead>\n",
       "  <tbody>\n",
       "    <tr>\n",
       "      <th>mean</th>\n",
       "      <td>988.033590</td>\n",
       "      <td>457.184480</td>\n",
       "    </tr>\n",
       "    <tr>\n",
       "      <th>median</th>\n",
       "      <td>253.225000</td>\n",
       "      <td>82.500000</td>\n",
       "    </tr>\n",
       "    <tr>\n",
       "      <th>std</th>\n",
       "      <td>3443.412587</td>\n",
       "      <td>1632.257787</td>\n",
       "    </tr>\n",
       "  </tbody>\n",
       "</table>\n",
       "</div>"
      ],
      "text/plain": [
       "        invoicepayamount     adminfee\n",
       "mean          988.033590   457.184480\n",
       "median        253.225000    82.500000\n",
       "std          3443.412587  1632.257787"
      ]
     },
     "execution_count": 5,
     "metadata": {},
     "output_type": "execute_result"
    }
   ],
   "source": [
    "data.agg([\"mean\", \"median\", \"std\"])"
   ]
  },
  {
   "cell_type": "markdown",
   "metadata": {},
   "source": [
    "## Plot two of the numerical columns one against the other in a scatter plot"
   ]
  },
  {
   "cell_type": "code",
   "execution_count": 6,
   "metadata": {},
   "outputs": [
    {
     "data": {
      "image/png": "[encoded data removed]",
      "text/plain": [
       "<Figure size 432x288 with 1 Axes>"
      ]
     },
     "metadata": {
      "needs_background": "light"
     },
     "output_type": "display_data"
    }
   ],
   "source": [
    "import matplotlib.pyplot as plt\n",
    "plt.figure()\n",
    "plt.scatter(data['invoicepayamount'], data['adminfee'])\n",
    "plt.show()"
   ]
  },
  {
   "cell_type": "markdown",
   "metadata": {},
   "source": [
    "## Plot the data distribution of all your numerical columns in histogram and boxplot"
   ]
  },
  {
   "cell_type": "code",
   "execution_count": 90,
   "metadata": {},
   "outputs": [
    {
     "data": {
      "text/plain": [
       "array([[<AxesSubplot:title={'center':'invoicepayamount'}>,\n",
       "        <AxesSubplot:title={'center':'adminfee'}>]], dtype=object)"
      ]
     },
     "execution_count": 90,
     "metadata": {},
     "output_type": "execute_result"
    },
    {
     "data": {
      "image/png": "[encoded data removed]",
      "text/plain": [
       "<Figure size 432x288 with 2 Axes>"
      ]
     },
     "metadata": {
      "needs_background": "light"
     },
     "output_type": "display_data"
    }
   ],
   "source": [
    "data.hist()"
   ]
  },
  {
   "cell_type": "code",
   "execution_count": 91,
   "metadata": {},
   "outputs": [
    {
     "data": {
      "text/plain": [
       "<AxesSubplot:>"
      ]
     },
     "execution_count": 91,
     "metadata": {},
     "output_type": "execute_result"
    },
    {
     "data": {
      "image/png": "[encoded data removed]",
      "text/plain": [
       "<Figure size 432x288 with 1 Axes>"
      ]
     },
     "metadata": {
      "needs_background": "light"
     },
     "output_type": "display_data"
    }
   ],
   "source": [
    "data.boxplot()"
   ]
  },
  {
   "cell_type": "markdown",
   "metadata": {},
   "source": [
    "## Create a new column in the same dataframe that is raised power of two of an existing column\n",
    "Example:\n",
    "![power_of_two](images/ex1.jpeg)\n"
   ]
  },
  {
   "cell_type": "code",
   "execution_count": 92,
   "metadata": {},
   "outputs": [
    {
     "data": {
      "text/html": [
       "<div>\n",
       "<style scoped>\n",
       "    .dataframe tbody tr th:only-of-type {\n",
       "        vertical-align: middle;\n",
       "    }\n",
       "\n",
       "    .dataframe tbody tr th {\n",
       "        vertical-align: top;\n",
       "    }\n",
       "\n",
       "    .dataframe thead th {\n",
       "        text-align: right;\n",
       "    }\n",
       "</style>\n",
       "<table border=\"1\" class=\"dataframe\">\n",
       "  <thead>\n",
       "    <tr style=\"text-align: right;\">\n",
       "      <th></th>\n",
       "      <th>invoicepayamount</th>\n",
       "      <th>adminfee</th>\n",
       "      <th>Raised_power_value_of_adminfee</th>\n",
       "    </tr>\n",
       "  </thead>\n",
       "  <tbody>\n",
       "    <tr>\n",
       "      <th>0</th>\n",
       "      <td>50.0</td>\n",
       "      <td>25.0</td>\n",
       "      <td>625.00</td>\n",
       "    </tr>\n",
       "    <tr>\n",
       "      <th>1</th>\n",
       "      <td>50.0</td>\n",
       "      <td>25.0</td>\n",
       "      <td>625.00</td>\n",
       "    </tr>\n",
       "    <tr>\n",
       "      <th>2</th>\n",
       "      <td>295.0</td>\n",
       "      <td>147.5</td>\n",
       "      <td>21756.25</td>\n",
       "    </tr>\n",
       "    <tr>\n",
       "      <th>3</th>\n",
       "      <td>50.0</td>\n",
       "      <td>25.0</td>\n",
       "      <td>625.00</td>\n",
       "    </tr>\n",
       "    <tr>\n",
       "      <th>4</th>\n",
       "      <td>300.0</td>\n",
       "      <td>150.0</td>\n",
       "      <td>22500.00</td>\n",
       "    </tr>\n",
       "  </tbody>\n",
       "</table>\n",
       "</div>"
      ],
      "text/plain": [
       "   invoicepayamount  adminfee  Raised_power_value_of_adminfee\n",
       "0              50.0      25.0                          625.00\n",
       "1              50.0      25.0                          625.00\n",
       "2             295.0     147.5                        21756.25\n",
       "3              50.0      25.0                          625.00\n",
       "4             300.0     150.0                        22500.00"
      ]
     },
     "execution_count": 92,
     "metadata": {},
     "output_type": "execute_result"
    }
   ],
   "source": [
    "data[\"Raised_power_value_of_adminfee\"] = data[\"adminfee\"] ** 2\n",
    "data.head()"
   ]
  },
  {
   "cell_type": "markdown",
   "metadata": {},
   "source": [
    "# Citi Bike investigation\n",
    "![citi-bike](images/citibike.jpeg)\n",
    ">Citi Bike is the largest bike share program in the US, with 20,000 bikes and over 1,300 stations across Manhattan, Brooklyn, Queens, the Bronx and Jersey City. It was designed for quick trips with convenience in mind, and it’s a fun and affordable way to get around town."
   ]
  },
  {
   "cell_type": "markdown",
   "metadata": {},
   "source": [
    "## Choose a citibikes dataset (one or two months, earlier datasets are convenient because they are smaller)"
   ]
  },
  {
   "cell_type": "markdown",
   "metadata": {},
   "source": [
    "Example for downloading September 2017 Citibike data:\n",
    "```\n",
    "! month=201709\n",
    "! curl https://s3.amazonaws.com/tripdata/$month-citibike-tripdata.csv.zip >> $month-citibike-tripdata.csv.zip\n",
    "! unzip $month-citibike-tripdata.csv.zip\n",
    "```"
   ]
  },
  {
   "cell_type": "markdown",
   "metadata": {},
   "source": [
    "I choose data 1 month in September 2021 (only 1 month, because the size is about 100 mb hehe)\n",
    "```\n",
    "month = 201710\n",
    "! curl https://s3.amazonaws.com/tripdata/$month-citibike-tripdata.csv.zip >> $month-citibike-tripdata.csv.zip\n",
    "! unzip $month-citibike-tripdata.csv.zip\n",
    "```"
   ]
  },
  {
   "cell_type": "code",
   "execution_count": 10,
   "metadata": {},
   "outputs": [
    {
     "data": {
      "text/html": [
       "<div>\n",
       "<style scoped>\n",
       "    .dataframe tbody tr th:only-of-type {\n",
       "        vertical-align: middle;\n",
       "    }\n",
       "\n",
       "    .dataframe tbody tr th {\n",
       "        vertical-align: top;\n",
       "    }\n",
       "\n",
       "    .dataframe thead th {\n",
       "        text-align: right;\n",
       "    }\n",
       "</style>\n",
       "<table border=\"1\" class=\"dataframe\">\n",
       "  <thead>\n",
       "    <tr style=\"text-align: right;\">\n",
       "      <th></th>\n",
       "      <th>tripduration</th>\n",
       "      <th>starttime</th>\n",
       "      <th>stoptime</th>\n",
       "      <th>start station id</th>\n",
       "      <th>start station name</th>\n",
       "      <th>start station latitude</th>\n",
       "      <th>start station longitude</th>\n",
       "      <th>end station id</th>\n",
       "      <th>end station name</th>\n",
       "      <th>end station latitude</th>\n",
       "      <th>end station longitude</th>\n",
       "      <th>bikeid</th>\n",
       "      <th>usertype</th>\n",
       "      <th>birth year</th>\n",
       "      <th>gender</th>\n",
       "    </tr>\n",
       "  </thead>\n",
       "  <tbody>\n",
       "    <tr>\n",
       "      <th>0</th>\n",
       "      <td>457</td>\n",
       "      <td>2017-10-01 00:00:00</td>\n",
       "      <td>2017-10-01 00:07:38</td>\n",
       "      <td>479</td>\n",
       "      <td>9 Ave &amp; W 45 St</td>\n",
       "      <td>40.760193</td>\n",
       "      <td>-73.991255</td>\n",
       "      <td>478</td>\n",
       "      <td>11 Ave &amp; W 41 St</td>\n",
       "      <td>40.760301</td>\n",
       "      <td>-73.998842</td>\n",
       "      <td>30951</td>\n",
       "      <td>Subscriber</td>\n",
       "      <td>1985.0</td>\n",
       "      <td>1</td>\n",
       "    </tr>\n",
       "    <tr>\n",
       "      <th>1</th>\n",
       "      <td>6462</td>\n",
       "      <td>2017-10-01 00:00:20</td>\n",
       "      <td>2017-10-01 01:48:03</td>\n",
       "      <td>279</td>\n",
       "      <td>Peck Slip &amp; Front St</td>\n",
       "      <td>40.707873</td>\n",
       "      <td>-74.001670</td>\n",
       "      <td>307</td>\n",
       "      <td>Canal St &amp; Rutgers St</td>\n",
       "      <td>40.714275</td>\n",
       "      <td>-73.989900</td>\n",
       "      <td>14809</td>\n",
       "      <td>Customer</td>\n",
       "      <td>NaN</td>\n",
       "      <td>0</td>\n",
       "    </tr>\n",
       "    <tr>\n",
       "      <th>2</th>\n",
       "      <td>761</td>\n",
       "      <td>2017-10-01 00:00:27</td>\n",
       "      <td>2017-10-01 00:13:09</td>\n",
       "      <td>504</td>\n",
       "      <td>1 Ave &amp; E 16 St</td>\n",
       "      <td>40.732219</td>\n",
       "      <td>-73.981656</td>\n",
       "      <td>350</td>\n",
       "      <td>Clinton St &amp; Grand St</td>\n",
       "      <td>40.715595</td>\n",
       "      <td>-73.987030</td>\n",
       "      <td>28713</td>\n",
       "      <td>Subscriber</td>\n",
       "      <td>1992.0</td>\n",
       "      <td>1</td>\n",
       "    </tr>\n",
       "    <tr>\n",
       "      <th>3</th>\n",
       "      <td>1193</td>\n",
       "      <td>2017-10-01 00:00:29</td>\n",
       "      <td>2017-10-01 00:20:22</td>\n",
       "      <td>3236</td>\n",
       "      <td>W 42 St &amp; Dyer Ave</td>\n",
       "      <td>40.758985</td>\n",
       "      <td>-73.993800</td>\n",
       "      <td>3233</td>\n",
       "      <td>E 48 St &amp; 5 Ave</td>\n",
       "      <td>40.757246</td>\n",
       "      <td>-73.978059</td>\n",
       "      <td>16008</td>\n",
       "      <td>Customer</td>\n",
       "      <td>1992.0</td>\n",
       "      <td>2</td>\n",
       "    </tr>\n",
       "    <tr>\n",
       "      <th>4</th>\n",
       "      <td>2772</td>\n",
       "      <td>2017-10-01 00:00:32</td>\n",
       "      <td>2017-10-01 00:46:44</td>\n",
       "      <td>2006</td>\n",
       "      <td>Central Park S &amp; 6 Ave</td>\n",
       "      <td>40.765909</td>\n",
       "      <td>-73.976342</td>\n",
       "      <td>469</td>\n",
       "      <td>Broadway &amp; W 53 St</td>\n",
       "      <td>40.763441</td>\n",
       "      <td>-73.982681</td>\n",
       "      <td>14556</td>\n",
       "      <td>Customer</td>\n",
       "      <td>NaN</td>\n",
       "      <td>0</td>\n",
       "    </tr>\n",
       "  </tbody>\n",
       "</table>\n",
       "</div>"
      ],
      "text/plain": [
       "   tripduration            starttime             stoptime  start station id  \\\n",
       "0           457  2017-10-01 00:00:00  2017-10-01 00:07:38               479   \n",
       "1          6462  2017-10-01 00:00:20  2017-10-01 01:48:03               279   \n",
       "2           761  2017-10-01 00:00:27  2017-10-01 00:13:09               504   \n",
       "3          1193  2017-10-01 00:00:29  2017-10-01 00:20:22              3236   \n",
       "4          2772  2017-10-01 00:00:32  2017-10-01 00:46:44              2006   \n",
       "\n",
       "       start station name  start station latitude  start station longitude  \\\n",
       "0         9 Ave & W 45 St               40.760193               -73.991255   \n",
       "1    Peck Slip & Front St               40.707873               -74.001670   \n",
       "2         1 Ave & E 16 St               40.732219               -73.981656   \n",
       "3      W 42 St & Dyer Ave               40.758985               -73.993800   \n",
       "4  Central Park S & 6 Ave               40.765909               -73.976342   \n",
       "\n",
       "   end station id       end station name  end station latitude  \\\n",
       "0             478       11 Ave & W 41 St             40.760301   \n",
       "1             307  Canal St & Rutgers St             40.714275   \n",
       "2             350  Clinton St & Grand St             40.715595   \n",
       "3            3233        E 48 St & 5 Ave             40.757246   \n",
       "4             469     Broadway & W 53 St             40.763441   \n",
       "\n",
       "   end station longitude  bikeid    usertype  birth year  gender  \n",
       "0             -73.998842   30951  Subscriber      1985.0       1  \n",
       "1             -73.989900   14809    Customer         NaN       0  \n",
       "2             -73.987030   28713  Subscriber      1992.0       1  \n",
       "3             -73.978059   16008    Customer      1992.0       2  \n",
       "4             -73.982681   14556    Customer         NaN       0  "
      ]
     },
     "execution_count": 10,
     "metadata": {},
     "output_type": "execute_result"
    }
   ],
   "source": [
    "import pandas as pd\n",
    "citibike = pd.read_csv(\"201710-citibike-tripdata.csv\")\n",
    "citibike.head()"
   ]
  },
  {
   "cell_type": "markdown",
   "metadata": {},
   "source": [
    "## Count the number of missing values of each column"
   ]
  },
  {
   "cell_type": "code",
   "execution_count": 11,
   "metadata": {},
   "outputs": [
    {
     "data": {
      "text/plain": [
       "tripduration                    0\n",
       "starttime                       0\n",
       "stoptime                        0\n",
       "start station id                0\n",
       "start station name              0\n",
       "start station latitude          0\n",
       "start station longitude         0\n",
       "end station id                  0\n",
       "end station name                0\n",
       "end station latitude            0\n",
       "end station longitude           0\n",
       "bikeid                          0\n",
       "usertype                        0\n",
       "birth year                 195593\n",
       "gender                          0\n",
       "dtype: int64"
      ]
     },
     "execution_count": 11,
     "metadata": {},
     "output_type": "execute_result"
    }
   ],
   "source": [
    "citibike.isnull().sum()"
   ]
  },
  {
   "cell_type": "code",
   "execution_count": 12,
   "metadata": {},
   "outputs": [],
   "source": [
    "# make new columns: \"hour\", \"day of week\", \"day of month\"\n",
    "citibike[\"starttime\"] = pd.to_datetime(citibike[\"starttime\"])\n",
    "citibike[\"date\"] = citibike[\"starttime\"].dt.date\n",
    "citibike[\"hour of day\"] = citibike[\"starttime\"].dt.hour\n",
    "citibike[\"day of week\"] = citibike[\"starttime\"].dt.day_name()\n",
    "citibike[\"day of month\"] = citibike[\"starttime\"].dt.day"
   ]
  },
  {
   "cell_type": "markdown",
   "metadata": {},
   "source": [
    "## Who rides citibikes? Show ridership distribution by gender, user type, and age\n",
    "Process the data and plot your answers"
   ]
  },
  {
   "cell_type": "code",
   "execution_count": 70,
   "metadata": {},
   "outputs": [
    {
     "data": {
      "text/plain": [
       "<AxesSubplot:>"
      ]
     },
     "execution_count": 70,
     "metadata": {},
     "output_type": "execute_result"
    },
    {
     "data": {
      "image/png": "[encoded data removed]",
      "text/plain": [
       "<Figure size 432x288 with 1 Axes>"
      ]
     },
     "metadata": {
      "needs_background": "light"
     },
     "output_type": "display_data"
    }
   ],
   "source": [
    "citibike[\"gender\"].astype('category')\n",
    "citibike[\"gender\"].loc[(citibike[\"gender\"] == 0)] = \"unknown\"\n",
    "citibike[\"gender\"].loc[(citibike[\"gender\"] == 1)] = \"male\"\n",
    "citibike[\"gender\"].loc[(citibike[\"gender\"] == 2)] = \"female\"\n",
    "citibike[\"gender\"].hist(bins=3)"
   ]
  },
  {
   "cell_type": "code",
   "execution_count": 64,
   "metadata": {},
   "outputs": [
    {
     "data": {
      "text/plain": [
       "<AxesSubplot:>"
      ]
     },
     "execution_count": 64,
     "metadata": {},
     "output_type": "execute_result"
    },
    {
     "data": {
      "image/png": "[encoded data removed]",
      "text/plain": [
       "<Figure size 432x288 with 1 Axes>"
      ]
     },
     "metadata": {
      "needs_background": "light"
     },
     "output_type": "display_data"
    }
   ],
   "source": [
    "citibike[\"age\"].hist(bins=20, range=(1,100))"
   ]
  },
  {
   "cell_type": "code",
   "execution_count": 51,
   "metadata": {},
   "outputs": [
    {
     "data": {
      "text/plain": [
       "<AxesSubplot:>"
      ]
     },
     "execution_count": 51,
     "metadata": {},
     "output_type": "execute_result"
    },
    {
     "data": {
      "image/png": "[encoded data removed]",
      "text/plain": [
       "<Figure size 432x288 with 1 Axes>"
      ]
     },
     "metadata": {
      "needs_background": "light"
     },
     "output_type": "display_data"
    }
   ],
   "source": [
    "citibike[\"usertype\"].hist(bins=2)"
   ]
  },
  {
   "cell_type": "code",
   "execution_count": 55,
   "metadata": {},
   "outputs": [
    {
     "data": {
      "text/plain": [
       "usertype\n",
       "Customer       205000\n",
       "Subscriber    1692592\n",
       "Name: bikeid, dtype: int64"
      ]
     },
     "execution_count": 55,
     "metadata": {},
     "output_type": "execute_result"
    }
   ],
   "source": [
    "citibike[\"bikeid\"].groupby(citibike['usertype']).count()"
   ]
  },
  {
   "cell_type": "markdown",
   "metadata": {},
   "source": [
    "## What is the average number of trips per day?"
   ]
  },
  {
   "cell_type": "code",
   "execution_count": 24,
   "metadata": {},
   "outputs": [],
   "source": [
    "# September 2017 is month of dataset. Because there is no birth day and month, this operation only use birth year\n",
    "citibike[\"age\"] = 2017 - citibike[\"birth year\"]"
   ]
  },
  {
   "cell_type": "code",
   "execution_count": 93,
   "metadata": {},
   "outputs": [
    {
     "name": "stdout",
     "output_type": "stream",
     "text": [
      "the average number of trips per day is 61212.65\n"
     ]
    }
   ],
   "source": [
    "print(\"the average number of trips per day is\",\n",
    "      round(citibike[\"bikeid\"].groupby(citibike[\"date\"]).count().mean(), 2) )"
   ]
  },
  {
   "cell_type": "markdown",
   "metadata": {},
   "source": [
    "## What is the average trip duration?"
   ]
  },
  {
   "cell_type": "code",
   "execution_count": 94,
   "metadata": {},
   "outputs": [
    {
     "name": "stdout",
     "output_type": "stream",
     "text": [
      "the average trip duration is 1067.8202068727103 seconds or about 0:17:47\n"
     ]
    }
   ],
   "source": [
    "def convert(seconds):\n",
    "    seconds = seconds % (24 * 3600)\n",
    "    hour = seconds // 3600\n",
    "    seconds %= 3600\n",
    "    minutes = seconds // 60\n",
    "    seconds %= 60\n",
    "    \n",
    "    return \"%d:%02d:%02d\" % (hour, minutes, seconds)\n",
    "\n",
    "detik = citibike[\"tripduration\"].mean()\n",
    "print(\"the average trip duration is\", detik, \"seconds or about\", convert(detik))"
   ]
  },
  {
   "cell_type": "markdown",
   "metadata": {},
   "source": [
    "## What days of the week are most rides taken on?\n",
    "Process the data and plot your answer"
   ]
  },
  {
   "cell_type": "code",
   "execution_count": 73,
   "metadata": {},
   "outputs": [
    {
     "data": {
      "text/plain": [
       "day of week\n",
       "Tuesday    316022\n",
       "Name: bikeid, dtype: int64"
      ]
     },
     "execution_count": 73,
     "metadata": {},
     "output_type": "execute_result"
    }
   ],
   "source": [
    "citibike[\"bikeid\"].groupby(citibike['day of week']).count().sort_values(ascending=False).head(1)"
   ]
  },
  {
   "cell_type": "code",
   "execution_count": 30,
   "metadata": {},
   "outputs": [
    {
     "data": {
      "image/png": "[encoded data removed]",
      "text/plain": [
       "<Figure size 432x288 with 1 Axes>"
      ]
     },
     "metadata": {
      "needs_background": "light"
     },
     "output_type": "display_data"
    }
   ],
   "source": [
    "import matplotlib.pyplot as plt\n",
    "\n",
    "citibike[\"bikeid\"].groupby(citibike['day of week']).count().plot(kind=\"bar\")\n",
    "plt.show()"
   ]
  },
  {
   "cell_type": "markdown",
   "metadata": {},
   "source": [
    "the most rides taken is on **Tuesday**"
   ]
  },
  {
   "cell_type": "markdown",
   "metadata": {},
   "source": [
    "## What hour of the day are most rides taken on?\n",
    "Process the data and plot your answer"
   ]
  },
  {
   "cell_type": "code",
   "execution_count": 39,
   "metadata": {},
   "outputs": [
    {
     "data": {
      "text/plain": [
       "hour of day\n",
       "17    195403\n",
       "Name: bikeid, dtype: int64"
      ]
     },
     "execution_count": 39,
     "metadata": {},
     "output_type": "execute_result"
    }
   ],
   "source": [
    "citibike[\"bikeid\"].groupby(citibike['hour of day']).count().sort_values(ascending=False).head(1)"
   ]
  },
  {
   "cell_type": "code",
   "execution_count": 29,
   "metadata": {},
   "outputs": [
    {
     "data": {
      "image/png": "[encoded data removed]",
      "text/plain": [
       "<Figure size 432x288 with 1 Axes>"
      ]
     },
     "metadata": {
      "needs_background": "light"
     },
     "output_type": "display_data"
    }
   ],
   "source": [
    "import matplotlib.pyplot as plt\n",
    "\n",
    "hours_count = citibike[\"bikeid\"].groupby(citibike['hour of day']).count().plot(kind=\"bar\")\n",
    "plt.show()"
   ]
  },
  {
   "cell_type": "markdown",
   "metadata": {},
   "source": [
    "the most rides taken is about **17 o'clock** or **5 pm**"
   ]
  },
  {
   "cell_type": "markdown",
   "metadata": {},
   "source": [
    "## Is there correlation between age and trip duration?"
   ]
  },
  {
   "cell_type": "code",
   "execution_count": 25,
   "metadata": {},
   "outputs": [
    {
     "data": {
      "text/html": [
       "<div>\n",
       "<style scoped>\n",
       "    .dataframe tbody tr th:only-of-type {\n",
       "        vertical-align: middle;\n",
       "    }\n",
       "\n",
       "    .dataframe tbody tr th {\n",
       "        vertical-align: top;\n",
       "    }\n",
       "\n",
       "    .dataframe thead th {\n",
       "        text-align: right;\n",
       "    }\n",
       "</style>\n",
       "<table border=\"1\" class=\"dataframe\">\n",
       "  <thead>\n",
       "    <tr style=\"text-align: right;\">\n",
       "      <th></th>\n",
       "      <th>age</th>\n",
       "      <th>tripduration</th>\n",
       "    </tr>\n",
       "  </thead>\n",
       "  <tbody>\n",
       "    <tr>\n",
       "      <th>age</th>\n",
       "      <td>1.000000</td>\n",
       "      <td>-0.003995</td>\n",
       "    </tr>\n",
       "    <tr>\n",
       "      <th>tripduration</th>\n",
       "      <td>-0.003995</td>\n",
       "      <td>1.000000</td>\n",
       "    </tr>\n",
       "  </tbody>\n",
       "</table>\n",
       "</div>"
      ],
      "text/plain": [
       "                   age  tripduration\n",
       "age           1.000000     -0.003995\n",
       "tripduration -0.003995      1.000000"
      ]
     },
     "execution_count": 25,
     "metadata": {},
     "output_type": "execute_result"
    }
   ],
   "source": [
    "citibike[[\"age\",\"tripduration\"]].corr()"
   ]
  },
  {
   "cell_type": "markdown",
   "metadata": {},
   "source": [
    "**There is no correlation**. Althogh it show negative correlation, but the velue is very close to 0 which is -0.004"
   ]
  },
  {
   "cell_type": "markdown",
   "metadata": {},
   "source": [
    "## What are the top 10 pair of stations that our riders use as a start & stopping point?"
   ]
  },
  {
   "cell_type": "code",
   "execution_count": 44,
   "metadata": {},
   "outputs": [
    {
     "name": "stdout",
     "output_type": "stream",
     "text": [
      "The top 10 pair of stations that our riders use as a starting point\n"
     ]
    },
    {
     "data": {
      "text/plain": [
       "start station name\n",
       "Pershing Square North    17995\n",
       "Broadway & E 22 St       12641\n",
       "W 21 St & 6 Ave          12370\n",
       "E 17 St & Broadway       12311\n",
       "West St & Chambers St    11738\n",
       "8 Ave & W 31 St          11606\n",
       "Broadway & E 14 St       10652\n",
       "8 Ave & W 33 St          10192\n",
       "12 Ave & W 40 St          9893\n",
       "W 20 St & 11 Ave          9882\n",
       "Name: bikeid, dtype: int64"
      ]
     },
     "execution_count": 44,
     "metadata": {},
     "output_type": "execute_result"
    }
   ],
   "source": [
    "print(\"The top 10 pair of stations that our riders use as a starting point\")\n",
    "citibike[\"bikeid\"].groupby(citibike[\"start station name\"]).count().sort_values(ascending=False).head(10)"
   ]
  },
  {
   "cell_type": "code",
   "execution_count": 45,
   "metadata": {},
   "outputs": [
    {
     "name": "stdout",
     "output_type": "stream",
     "text": [
      "The top 10 pair of stations that our riders use as a stopping point\n"
     ]
    },
    {
     "data": {
      "text/plain": [
       "end station name\n",
       "Pershing Square North    17752\n",
       "West St & Chambers St    13166\n",
       "Broadway & E 22 St       12788\n",
       "E 17 St & Broadway       12557\n",
       "W 21 St & 6 Ave          12459\n",
       "8 Ave & W 31 St          12125\n",
       "Broadway & E 14 St       10602\n",
       "W 20 St & 11 Ave         10288\n",
       "12 Ave & W 40 St         10007\n",
       "8 Ave & W 33 St           9900\n",
       "Name: bikeid, dtype: int64"
      ]
     },
     "execution_count": 45,
     "metadata": {},
     "output_type": "execute_result"
    }
   ],
   "source": [
    "print(\"The top 10 pair of stations that our riders use as a stopping point\")\n",
    "citibike[\"bikeid\"].groupby(citibike[\"end station name\"]).count().sort_values(ascending=False).head(10)"
   ]
  },
  {
   "cell_type": "code",
   "execution_count": 83,
   "metadata": {},
   "outputs": [
    {
     "name": "stdout",
     "output_type": "stream",
     "text": [
      "The top 10 pair of stations that our riders use as a start and stopping point\n"
     ]
    },
    {
     "data": {
      "text/plain": [
       "Pershing Square North    35747.0\n",
       "Broadway & E 22 St       25429.0\n",
       "West St & Chambers St    24904.0\n",
       "E 17 St & Broadway       24868.0\n",
       "W 21 St & 6 Ave          24829.0\n",
       "8 Ave & W 31 St          23731.0\n",
       "Broadway & E 14 St       21254.0\n",
       "W 20 St & 11 Ave         20170.0\n",
       "8 Ave & W 33 St          20092.0\n",
       "12 Ave & W 40 St         19900.0\n",
       "Name: bikeid, dtype: float64"
      ]
     },
     "execution_count": 83,
     "metadata": {},
     "output_type": "execute_result"
    }
   ],
   "source": [
    "starting_point = citibike[\"bikeid\"].groupby(citibike[\"start station name\"]).count().sort_index()\n",
    "stopping_point = citibike[\"bikeid\"].groupby(citibike[\"end station name\"]).count().sort_index()\n",
    "start_stopping = starting_point + stopping_point\n",
    "print(\"The top 10 pair of stations that our riders use as a start and stopping point\")\n",
    "start_stopping.sort_values(ascending=False).head(10)"
   ]
  },
  {
   "cell_type": "markdown",
   "metadata": {},
   "source": [
    "## Come up with your own question on the Citibike data usage and formulate a hypothesis"
   ]
  },
  {
   "cell_type": "markdown",
   "metadata": {},
   "source": [
    "### Example:\n",
    "### \"Women are less likely than men to choose biking for commuting.\"\n",
    ">\n",
    ">Null Hypothesis: \n",
    "\n",
    ">The proportion of men biking on weekends is the same or higher than the proportion of women biking on weekends\n",
    "\n"
   ]
  },
  {
   "cell_type": "markdown",
   "metadata": {},
   "source": [
    "### My own: kinda similar sih hehe\n",
    "### \"Women are less likely than men in trip duration when they bike for commuting\"\n",
    ">\n",
    ">**Null Hypothesis**: The average trip duration of men is higher than the average trip duration of women when they bike for commuting\n",
    "\n"
   ]
  },
  {
   "cell_type": "markdown",
   "metadata": {},
   "source": [
    "## Work with your dataset and show your findings to help answer your question"
   ]
  },
  {
   "cell_type": "code",
   "execution_count": 85,
   "metadata": {},
   "outputs": [
    {
     "data": {
      "text/plain": [
       "gender\n",
       "female     1126.910630\n",
       "male        924.441865\n",
       "unknown    1817.716119\n",
       "Name: tripduration, dtype: float64"
      ]
     },
     "execution_count": 85,
     "metadata": {},
     "output_type": "execute_result"
    }
   ],
   "source": [
    "citibike[\"tripduration\"].groupby(citibike[\"gender\"]).mean()"
   ]
  },
  {
   "cell_type": "markdown",
   "metadata": {},
   "source": [
    "from the above result, we can know that **my null hypothesis is rejected**"
   ]
  },
  {
   "cell_type": "markdown",
   "metadata": {},
   "source": [
    "this answers that the average trip duration of women is higher than the average trip duration of man when they bike for commuting. this is insight for bicycle rental provider for example, that promotion for women with trip duration approach can be considered."
   ]
  },
  {
   "cell_type": "markdown",
   "metadata": {},
   "source": [
    "# Submit Instructions\n",
    "Rename this notebook to `mod2_<first_name>_<last_name>.ipynb` and push this to your branch in module-2 repository\n",
    "\n",
    "```\n",
    "git checkout -b tanyani\n",
    "git add mod2_tanya_nabila.ipynb\n",
    "git commit -m 'submit mod2 assignment for Tanya Nabila'\n",
    "git push\n",
    "```"
   ]
  },
  {
   "cell_type": "code",
   "execution_count": null,
   "metadata": {},
   "outputs": [],
   "source": []
  }
 ],
 "metadata": {
  "interpreter": {
   "hash": "52b78d8e2db875985b812709016d1a544e51f9f88c2ad8d2c099fce058451922"
  },
  "kernelspec": {
   "display_name": "Python 3 (ipykernel)",
   "language": "python",
   "name": "python3"
  },
  "language_info": {
   "codemirror_mode": {
    "name": "ipython",
    "version": 3
   },
   "file_extension": ".py",
   "mimetype": "text/x-python",
   "name": "python",
   "nbconvert_exporter": "python",
   "pygments_lexer": "ipython3",
   "version": "3.7.11"
  },
  "widgets": {
   "application/vnd.jupyter.widget-state+json": {
    "state": {},
    "version_major": 2,
    "version_minor": 0
   }
  }
 },
 "nbformat": 4,
 "nbformat_minor": 4
}
